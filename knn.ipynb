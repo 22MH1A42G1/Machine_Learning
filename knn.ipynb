{
  "nbformat": 4,
  "nbformat_minor": 0,
  "metadata": {
    "colab": {
      "provenance": [],
      "authorship_tag": "ABX9TyNfE1/Yo7/Y0jhbVQwaJg2m",
      "include_colab_link": true
    },
    "kernelspec": {
      "name": "python3",
      "display_name": "Python 3"
    },
    "language_info": {
      "name": "python"
    }
  },
  "cells": [
    {
      "cell_type": "markdown",
      "metadata": {
        "id": "view-in-github",
        "colab_type": "text"
      },
      "source": [
        "<a href=\"https://colab.research.google.com/github/AdityaTheEmpire/MLLAB/blob/main/MLEXP7.ipynb\" target=\"_parent\"><img src=\"https://colab.research.google.com/assets/colab-badge.svg\" alt=\"Open In Colab\"/></a>"
      ]
    },
    {
      "cell_type": "code",
      "execution_count": 1,
      "metadata": {
        "id": "a5AV5Eqsjh_9",
        "colab": {
          "base_uri": "https://localhost:8080/"
        },
        "outputId": "01d27db5-60ea-43c1-80ed-d72d6e0b8e64"
      },
      "outputs": [
        {
          "output_type": "stream",
          "name": "stdout",
          "text": [
            "\n",
            "-------------------------------------------------------------------------\n",
            "Original Label            Predicted Label           Correct/Wrong            \n",
            "-------------------------------------------------------------------------\n",
            "Versicolor                Versicolor               Correct                  \n",
            "Setosa                    Setosa                   Correct                  \n",
            "Virginica                 Virginica                Correct                  \n",
            "Versicolor                Versicolor               Correct                  \n",
            "Versicolor                Versicolor               Correct                  \n",
            "Setosa                    Setosa                   Correct                  \n",
            "Versicolor                Versicolor               Correct                  \n",
            "Virginica                 Virginica                Correct                  \n",
            "Versicolor                Versicolor               Correct                  \n",
            "Versicolor                Versicolor               Correct                  \n",
            "Virginica                 Virginica                Correct                  \n",
            "Setosa                    Setosa                   Correct                  \n",
            "Setosa                    Setosa                   Correct                  \n",
            "Setosa                    Setosa                   Correct                  \n",
            "Setosa                    Setosa                   Correct                  \n",
            "-------------------------------------------------------------------------\n",
            "\n",
            "Confusion Matrix:\n",
            " [[6 0 0]\n",
            " [0 6 0]\n",
            " [0 0 3]]\n",
            "-------------------------------------------------------------------------\n",
            "\n",
            "Classification Report:\n",
            "               precision    recall  f1-score   support\n",
            "\n",
            "      Setosa       1.00      1.00      1.00         6\n",
            "  Versicolor       1.00      1.00      1.00         6\n",
            "   Virginica       1.00      1.00      1.00         3\n",
            "\n",
            "    accuracy                           1.00        15\n",
            "   macro avg       1.00      1.00      1.00        15\n",
            "weighted avg       1.00      1.00      1.00        15\n",
            "\n",
            "-------------------------------------------------------------------------\n",
            "Accuracy of the classifier is 1.00\n",
            "-------------------------------------------------------------------------\n"
          ]
        }
      ],
      "source": [
        "import numpy as np\n",
        "import pandas as pd\n",
        "from sklearn.neighbors import KNeighborsClassifier\n",
        "from sklearn.model_selection import train_test_split\n",
        "from sklearn import metrics\n",
        "from sklearn.preprocessing import LabelEncoder\n",
        "\n",
        "# Load the dataset\n",
        "dataset = pd.read_csv(\"iris.csv\")\n",
        "\n",
        "# Features and target columns\n",
        "X = dataset[['sepal.length', 'sepal.width', 'petal.length', 'petal.width']]  # Features\n",
        "y = dataset['variety']  # Target (class labels)\n",
        "\n",
        "# Convert the categorical target 'variety' into numeric values using LabelEncoder\n",
        "le = LabelEncoder()\n",
        "y_encoded = le.fit_transform(y)\n",
        "\n",
        "# Split the dataset into training and testing sets\n",
        "Xtrain, Xtest, ytrain, ytest = train_test_split(X, y_encoded, test_size=0.10, random_state=42)\n",
        "\n",
        "# Create and train the K-Nearest Neighbors (KNN) classifier\n",
        "classifier = KNeighborsClassifier(n_neighbors=5).fit(Xtrain, ytrain)\n",
        "\n",
        "# Predict the labels for the test set\n",
        "ypred = classifier.predict(Xtest)\n",
        "\n",
        "# Initialize a counter for indexing\n",
        "i = 0\n",
        "print(\"\\n-------------------------------------------------------------------------\")\n",
        "print('%-25s %-25s %-25s' % ('Original Label', 'Predicted Label', 'Correct/Wrong'))\n",
        "print(\"-------------------------------------------------------------------------\")\n",
        "\n",
        "# Compare each original label with its prediction and print the results\n",
        "for label, prediction in zip(ytest, ypred):\n",
        "    print('%-25s %-25s' % (le.inverse_transform([label])[0], le.inverse_transform([prediction])[0]), end=\"\")\n",
        "    if label == prediction:\n",
        "        print('%-25s' % ('Correct'))\n",
        "    else:\n",
        "        print('%-25s' % ('Wrong'))\n",
        "    i += 1\n",
        "\n",
        "print(\"-------------------------------------------------------------------------\")\n",
        "\n",
        "# Display the confusion matrix\n",
        "print(\"\\nConfusion Matrix:\\n\", metrics.confusion_matrix(ytest, ypred))\n",
        "print(\"-------------------------------------------------------------------------\")\n",
        "\n",
        "# Display the classification report with precision, recall, and F1-score\n",
        "print(\"\\nClassification Report:\\n\", metrics.classification_report(ytest, ypred, target_names=le.classes_))\n",
        "print(\"-------------------------------------------------------------------------\")\n",
        "\n",
        "# Display the accuracy of the classifier\n",
        "print('Accuracy of the classifier is %0.2f' % metrics.accuracy_score(ytest, ypred))\n",
        "print(\"-------------------------------------------------------------------------\")\n"
      ]
    }
  ]
}