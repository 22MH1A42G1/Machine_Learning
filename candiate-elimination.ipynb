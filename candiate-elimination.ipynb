{
  "nbformat": 4,
  "nbformat_minor": 0,
  "metadata": {
    "colab": {
      "provenance": [],
      "authorship_tag": "ABX9TyPE8ltQcYHzuBXlJQtteBf7",
      "include_colab_link": true
    },
    "kernelspec": {
      "name": "python3",
      "display_name": "Python 3"
    },
    "language_info": {
      "name": "python"
    }
  },
  "cells": [
    {
      "cell_type": "markdown",
      "metadata": {
        "id": "view-in-github",
        "colab_type": "text"
      },
      "source": [
        "<a href=\"https://colab.research.google.com/github/AdityaTheEmpire/MLLAB/blob/main/MLEXP2.ipynb\" target=\"_parent\"><img src=\"https://colab.research.google.com/assets/colab-badge.svg\" alt=\"Open In Colab\"/></a>"
      ]
    },
    {
      "cell_type": "code",
      "execution_count": 2,
      "metadata": {
        "colab": {
          "base_uri": "https://localhost:8080/"
        },
        "id": "aHGQxWBKOrB7",
        "outputId": "0bd89329-a40c-420c-95bc-7b394b2b94ae"
      },
      "outputs": [
        {
          "output_type": "stream",
          "name": "stdout",
          "text": [
            "Initialization of specific_h \n",
            " ['sunny' 'warm' 'normal' 'strong' 'warm' 'same']\n",
            "Initialization of general_h \n",
            " [['?', '?', '?', '?', '?', '?'], ['?', '?', '?', '?', '?', '?'], ['?', '?', '?', '?', '?', '?'], ['?', '?', '?', '?', '?', '?'], ['?', '?', '?', '?', '?', '?'], ['?', '?', '?', '?', '?', '?']]\n",
            "Instance 1 is Positive\n",
            "Step 1\n",
            "Specific Hypothesis: ['sunny' 'warm' 'normal' 'strong' 'warm' 'same']\n",
            "General Hypothesis: [['?', '?', '?', '?', '?', '?'], ['?', '?', '?', '?', '?', '?'], ['?', '?', '?', '?', '?', '?'], ['?', '?', '?', '?', '?', '?'], ['?', '?', '?', '?', '?', '?'], ['?', '?', '?', '?', '?', '?']]\n",
            "\n",
            "\n",
            "Instance 2 is Positive\n",
            "Step 2\n",
            "Specific Hypothesis: ['sunny' 'warm' '?' 'strong' 'warm' 'same']\n",
            "General Hypothesis: [['?', '?', '?', '?', '?', '?'], ['?', '?', '?', '?', '?', '?'], ['?', '?', '?', '?', '?', '?'], ['?', '?', '?', '?', '?', '?'], ['?', '?', '?', '?', '?', '?'], ['?', '?', '?', '?', '?', '?']]\n",
            "\n",
            "\n",
            "Instance 3 is Negative\n",
            "Step 3\n",
            "Specific Hypothesis: ['sunny' 'warm' '?' 'strong' 'warm' 'same']\n",
            "General Hypothesis: [['sunny', '?', '?', '?', '?', '?'], ['?', 'warm', '?', '?', '?', '?'], ['?', '?', '?', '?', '?', '?'], ['?', '?', '?', '?', '?', '?'], ['?', '?', '?', '?', '?', '?'], ['?', '?', '?', '?', '?', 'same']]\n",
            "\n",
            "\n",
            "Instance 4 is Positive\n",
            "Step 4\n",
            "Specific Hypothesis: ['sunny' 'warm' '?' 'strong' '?' '?']\n",
            "General Hypothesis: [['sunny', '?', '?', '?', '?', '?'], ['?', 'warm', '?', '?', '?', '?'], ['?', '?', '?', '?', '?', '?'], ['?', '?', '?', '?', '?', '?'], ['?', '?', '?', '?', '?', '?'], ['?', '?', '?', '?', '?', '?']]\n",
            "\n",
            "\n",
            "Final Specific_h:\n",
            "['sunny' 'warm' '?' 'strong' '?' '?']\n",
            "Final General_h:\n",
            "[['sunny', '?', '?', '?', '?', '?'], ['?', 'warm', '?', '?', '?', '?']]\n"
          ]
        }
      ],
      "source": [
        "import numpy as np\n",
        "import pandas as pd\n",
        "\n",
        "\n",
        "data = pd.read_csv('data.csv')\n",
        "\n",
        "\n",
        "concepts = np.array(data.iloc[:, 0:-1])\n",
        "target = np.array(data.iloc[:, -1])\n",
        "\n",
        "\n",
        "def learn(concepts, target):\n",
        "\n",
        "    specific_h = concepts[0].copy()\n",
        "    print(\"Initialization of specific_h \\n\", specific_h)\n",
        "\n",
        "\n",
        "    general_h = [[\"?\" for i in range(len(specific_h))] for i in range(len(specific_h))]\n",
        "    print(\"Initialization of general_h \\n\", general_h)\n",
        "\n",
        "\n",
        "    for i, h in enumerate(concepts):\n",
        "        if target[i] == \"yes\":\n",
        "            print(f\"Instance {i+1} is Positive\")\n",
        "\n",
        "            for x in range(len(specific_h)):\n",
        "                if h[x] != specific_h[x]:\n",
        "                    specific_h[x] = '?'\n",
        "                    general_h[x][x] = '?'\n",
        "        elif target[i] == \"no\":\n",
        "            print(f\"Instance {i+1} is Negative\")\n",
        "\n",
        "            for x in range(len(specific_h)):\n",
        "                if h[x] != specific_h[x]:\n",
        "                    general_h[x][x] = specific_h[x]\n",
        "                else:\n",
        "                    general_h[x][x] = '?'\n",
        "\n",
        "\n",
        "        print(f\"Step {i + 1}\")\n",
        "        print(\"Specific Hypothesis:\", specific_h)\n",
        "        print(\"General Hypothesis:\", general_h)\n",
        "        print(\"\\n\")\n",
        "\n",
        "\n",
        "    general_h = [h for h in general_h if h != ['?' for _ in range(len(specific_h))]]\n",
        "\n",
        "    return specific_h, general_h\n",
        "\n",
        "\n",
        "s_final, g_final = learn(concepts, target)\n",
        "\n",
        "\n",
        "print(\"Final Specific_h:\", s_final, sep=\"\\n\")\n",
        "print(\"Final General_h:\", g_final, sep=\"\\n\")"
      ]
    }
  ]
}