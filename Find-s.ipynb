{
  "nbformat": 4,
  "nbformat_minor": 0,
  "metadata": {
    "colab": {
      "provenance": [],
      "authorship_tag": "ABX9TyMCpxQuvB2s3ey+UoyF9oN0",
      "include_colab_link": true
    },
    "kernelspec": {
      "name": "python3",
      "display_name": "Python 3"
    },
    "language_info": {
      "name": "python"
    }
  },
  "cells": [
    {
      "cell_type": "markdown",
      "metadata": {
        "id": "view-in-github",
        "colab_type": "text"
      },
      "source": [
        "<a href=\"https://colab.research.google.com/github/AdityaTheEmpire/MLLAB/blob/main/MLEXP1.ipynb\" target=\"_parent\"><img src=\"https://colab.research.google.com/assets/colab-badge.svg\" alt=\"Open In Colab\"/></a>"
      ]
    },
    {
      "cell_type": "code",
      "execution_count": 2,
      "metadata": {
        "colab": {
          "base_uri": "https://localhost:8080/"
        },
        "id": "3vK9YNaqL-UW",
        "outputId": "a61470a9-70ff-43a4-de57-fbbc81d58859"
      },
      "outputs": [
        {
          "output_type": "stream",
          "name": "stdout",
          "text": [
            "\n",
            "Concepts:\n",
            "[['sunny' 'warm' 'normal' 'strong' 'warm' 'same']\n",
            " ['sunny' 'warm' 'high' 'strong' 'warm' 'same']\n",
            " ['rainy' 'cold' 'high' 'strong' 'warm' 'change']\n",
            " ['sunny' 'warm' 'high' 'strong' 'cool' 'change']]\n",
            "\n",
            "Target:\n",
            "['yes' 'yes' 'no' 'yes']\n",
            "\n",
            "Initial hypothesis from first positive example: ['sunny' 'warm' 'normal' 'strong' 'warm' 'same']\n",
            "\n",
            "Hypothesis after example 1: ['sunny' 'warm' 'normal' 'strong' 'warm' 'same']\n",
            "\n",
            "Hypothesis after example 2: ['sunny' 'warm' '?' 'strong' 'warm' 'same']\n",
            "\n",
            "Hypothesis after example 4: ['sunny' 'warm' '?' 'strong' '?' '?']\n",
            "\n",
            "The most specific hypothesis is: ['sunny' 'warm' '?' 'strong' '?' '?']\n"
          ]
        }
      ],
      "source": [
        "import pandas as pd\n",
        "import numpy as np\n",
        "\n",
        "data = pd.read_csv('data.csv')\n",
        "\n",
        "concepts = np.array(data)[:,:-1]\n",
        "target = np.array(data)[:,-1]\n",
        "print(\"\\nConcepts:\")\n",
        "print(concepts)\n",
        "print(\"\\nTarget:\")\n",
        "print(target)\n",
        "\n",
        "def train(con, tar):\n",
        "\n",
        " for i, val in enumerate(tar):\n",
        "     if val == 'yes':\n",
        "         specific_h = con[i].copy()\n",
        "         print(f\"\\nInitial hypothesis from first positive example: {specific_h}\")\n",
        "         break\n",
        " for i, val in enumerate(con):\n",
        "     if tar[i] == 'yes':\n",
        "         for x in range(len(specific_h)):\n",
        "             if val[x] != specific_h[x]:\n",
        "                 specific_h[x] = '?'\n",
        "         print(f\"\\nHypothesis after example {i+1}: {specific_h}\")\n",
        " return specific_h\n",
        "\n",
        "specific_hypothesis = train(concepts, target)\n",
        "\n",
        "print(\"\\nThe most specific hypothesis is:\", specific_hypothesis)"
      ]
    }
  ]
}