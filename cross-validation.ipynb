{
 "cells": [
  {
   "cell_type": "markdown",
   "metadata": {
    "colab_type": "text",
    "id": "view-in-github"
   },
   "source": [
    "<a href=\"https://colab.research.google.com/github/AdityaTheEmpire/MLLAB/blob/main/MLEXP5.ipynb\" target=\"_parent\"><img src=\"https://colab.research.google.com/assets/colab-badge.svg\" alt=\"Open In Colab\"/></a>"
   ]
  },
  {
   "cell_type": "code",
   "execution_count": null,
   "metadata": {
    "colab": {
     "base_uri": "https://localhost:8080/"
    },
    "id": "IXuEb9S-VPd7",
    "outputId": "a27fa391-5eaf-4972-c085-e84b31d6546a"
   },
   "outputs": [
    {
     "name": "stdout",
     "output_type": "stream",
     "text": [
      "Bias on Test Set: 1413.8992754641579\n",
      "Variance on Test Set: 742935582.4611685\n",
      "Average Bias across CV: 16.848782400517393\n",
      "Average Variance across CV: 632370656.6357104\n",
      "Average MSE across CV: 33745311.16564371\n"
     ]
    }
   ],
   "source": [
    "import numpy as np\n",
    "import pandas as pd\n",
    "import matplotlib.pyplot as plt\n",
    "from sklearn.model_selection import train_test_split, KFold\n",
    "from sklearn.linear_model import LinearRegression\n",
    "from sklearn.metrics import mean_squared_error\n",
    "\n",
    "\n",
    "dataset = pd.read_csv('Salary_Data.csv')\n",
    "\n",
    "\n",
    "dataset = dataset.drop_duplicates()\n",
    "\n",
    "\n",
    "X = dataset.iloc[:, :-1].values\n",
    "y = dataset.iloc[:, 1].values\n",
    "\n",
    "\n",
    "X_train, X_test, y_train, y_test = train_test_split(X, y, test_size=1/3, random_state=0)\n",
    "\n",
    "\n",
    "regressor = LinearRegression()\n",
    "regressor.fit(X_train, y_train)\n",
    "\n",
    "\n",
    "y_pred = regressor.predict(X_test)\n",
    "\n",
    "\n",
    "def calculate_bias(y_test, y_pred):\n",
    "    return np.mean(y_pred - y_test)\n",
    "\n",
    "\n",
    "def calculate_variance(y_pred):\n",
    "    return np.var(y_pred)\n",
    "\n",
    "\n",
    "def cross_validation(model, X, y, cv=5):\n",
    "    kf = KFold(n_splits=cv, shuffle=True, random_state=0)\n",
    "    biases, variances, mse_scores = [], [], []\n",
    "\n",
    "    for train_idx, test_idx in kf.split(X):\n",
    "        X_train, X_test = X[train_idx], X[test_idx]\n",
    "        y_train, y_test = y[train_idx], y[test_idx]\n",
    "\n",
    "        model.fit(X_train, y_train)\n",
    "        y_pred = model.predict(X_test)\n",
    "\n",
    "        biases.append(calculate_bias(y_test, y_pred))\n",
    "        variances.append(calculate_variance(y_pred))\n",
    "        mse_scores.append(mean_squared_error(y_test, y_pred))\n",
    "\n",
    "    return np.mean(biases), np.mean(variances), np.mean(mse_scores)\n",
    "\n",
    "\n",
    "avg_bias, avg_variance, avg_mse = cross_validation(regressor, X, y)\n",
    "\n",
    "\n",
    "print(\"Bias on Test Set:\", calculate_bias(y_test, y_pred))\n",
    "print(\"Variance on Test Set:\", calculate_variance(y_pred))\n",
    "print(\"Average Bias across CV:\", avg_bias)\n",
    "print(\"Average Variance across CV:\", avg_variance)\n",
    "print(\"Average MSE across CV:\", avg_mse)\n",
    "\n",
    "\n"
   ]
  }
 ],
 "metadata": {
  "colab": {
   "authorship_tag": "ABX9TyP4qVMm/LsD6ZlmBtuAEXyI",
   "include_colab_link": true,
   "provenance": []
  },
  "kernelspec": {
   "display_name": "Python 3",
   "name": "python3"
  },
  "language_info": {
   "name": "python"
  }
 },
 "nbformat": 4,
 "nbformat_minor": 0
}
