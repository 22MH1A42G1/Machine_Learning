{
  "nbformat": 4,
  "nbformat_minor": 0,
  "metadata": {
    "colab": {
      "provenance": [],
      "authorship_tag": "ABX9TyN1riKrxWiMBnDle2WcNQQw",
      "include_colab_link": true
    },
    "kernelspec": {
      "name": "python3",
      "display_name": "Python 3"
    },
    "language_info": {
      "name": "python"
    }
  },
  "cells": [
    {
      "cell_type": "markdown",
      "metadata": {
        "id": "view-in-github",
        "colab_type": "text"
      },
      "source": [
        "<a href=\"https://colab.research.google.com/github/AdityaTheEmpire/MLLAB/blob/main/MLEXP11.ipynb\" target=\"_parent\"><img src=\"https://colab.research.google.com/assets/colab-badge.svg\" alt=\"Open In Colab\"/></a>"
      ]
    },
    {
      "cell_type": "markdown",
      "source": [
        "PCA"
      ],
      "metadata": {
        "id": "aYIJgK2zupcS"
      }
    },
    {
      "cell_type": "code",
      "execution_count": 1,
      "metadata": {
        "colab": {
          "base_uri": "https://localhost:8080/"
        },
        "id": "m6EI5wEpuoEF",
        "outputId": "19846cb1-abcc-4e38-abcf-3892e8562910"
      },
      "outputs": [
        {
          "output_type": "stream",
          "name": "stdout",
          "text": [
            "[0.95864607 0.04135393]\n",
            "[6.14058185 1.27537752]\n"
          ]
        }
      ],
      "source": [
        "import numpy as np\n",
        "import pandas as pd\n",
        "from sklearn.decomposition import PCA\n",
        "X=np.array([[-1,1],[-2,-1],[-3,-2],[1,1],[2,1],[3,2]])\n",
        "pca=PCA(n_components=2)\n",
        "pca.fit(X)\n",
        "print(pca.explained_variance_ratio_)\n",
        "print(pca.singular_values_)"
      ]
    },
    {
      "cell_type": "markdown",
      "source": [
        "Randomized_PCA"
      ],
      "metadata": {
        "id": "kr36xhgdu3SK"
      }
    },
    {
      "cell_type": "code",
      "source": [
        "import numpy as np\n",
        "import pandas as pd\n",
        "from sklearn.decomposition import PCA\n",
        "X=np.array([[-1,1],[-2,-1],[-3,-2],[1,1],[2,1],[3,2]])\n",
        "pca=PCA(n_components=2, svd_solver='randomized')\n",
        "pca.fit(X)\n",
        "print(pca.explained_variance_ratio_)\n",
        "print(pca.singular_values_)"
      ],
      "metadata": {
        "colab": {
          "base_uri": "https://localhost:8080/"
        },
        "id": "S4ho9p-Uu3h5",
        "outputId": "f4291069-90cb-4831-b524-68f45bfd9643"
      },
      "execution_count": 2,
      "outputs": [
        {
          "output_type": "stream",
          "name": "stdout",
          "text": [
            "[0.95864607 0.04135393]\n",
            "[6.14058185 1.27537752]\n"
          ]
        }
      ]
    },
    {
      "cell_type": "markdown",
      "source": [
        "Kernel PCA"
      ],
      "metadata": {
        "id": "ub68ProJvCbq"
      }
    },
    {
      "cell_type": "code",
      "source": [
        "import numpy as np\n",
        "import pandas as pd\n",
        "from sklearn.decomposition import KernelPCA\n",
        "\n",
        "# Sample data\n",
        "X = np.array([[-1, 1], [-2, -1], [-3, -2], [1, 1], [2, 1], [3, 2]])\n",
        "\n",
        "# Initialize KernelPCA\n",
        "pca = KernelPCA(n_components=2, kernel=\"rbf\", gamma=0.04)\n",
        "\n",
        "# Fit and transform the data\n",
        "X_reduced = pca.fit_transform(X)\n",
        "\n",
        "# Print the reduced dataset\n",
        "print(X_reduced)"
      ],
      "metadata": {
        "colab": {
          "base_uri": "https://localhost:8080/"
        },
        "id": "c9L60VT2vI0u",
        "outputId": "800423b7-a665-488d-afa1-77d2aa88515e"
      },
      "execution_count": 3,
      "outputs": [
        {
          "output_type": "stream",
          "name": "stdout",
          "text": [
            "[[ 0.12411036  0.38810034]\n",
            " [ 0.55966267  0.03207624]\n",
            " [ 0.70836481 -0.27961945]\n",
            " [-0.31324401  0.17720771]\n",
            " [-0.47688755 -0.03064082]\n",
            " [-0.60200629 -0.28712402]]\n"
          ]
        }
      ]
    }
  ]
}